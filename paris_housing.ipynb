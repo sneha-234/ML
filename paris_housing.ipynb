{
  "nbformat": 4,
  "nbformat_minor": 0,
  "metadata": {
    "colab": {
      "name": "paris housing.ipynb",
      "provenance": []
    },
    "kernelspec": {
      "name": "python3",
      "display_name": "Python 3"
    },
    "language_info": {
      "name": "python"
    }
  },
  "cells": [
    {
      "cell_type": "code",
      "execution_count": null,
      "metadata": {
        "id": "oETWnfjpCJ1U"
      },
      "outputs": [],
      "source": [
        "import pandas as pd\n",
        "import numpy as np\n",
        "import matplotlib.pyplot as plt\n",
        "from sklearn.linear_model import LinearRegression\n",
        "from sklearn import linear_model\n",
        "\n",
        "from sklearn import metrics\n",
        "from sklearn.model_selection import train_test_split"
      ]
    },
    {
      "cell_type": "code",
      "source": [
        "df=pd.read_csv('PARIS HOUSING')\n",
        "df"
      ],
      "metadata": {
        "colab": {
          "base_uri": "https://localhost:8080/",
          "height": 487
        },
        "id": "vIPnUkCuDKhb",
        "outputId": "0c99105f-aa53-4f7a-d30c-10a9664b1d5c"
      },
      "execution_count": null,
      "outputs": [
        {
          "output_type": "execute_result",
          "data": {
            "text/html": [
              "\n",
              "  <div id=\"df-53836a3b-3670-4b6f-ac07-0d3acb433e4a\">\n",
              "    <div class=\"colab-df-container\">\n",
              "      <div>\n",
              "<style scoped>\n",
              "    .dataframe tbody tr th:only-of-type {\n",
              "        vertical-align: middle;\n",
              "    }\n",
              "\n",
              "    .dataframe tbody tr th {\n",
              "        vertical-align: top;\n",
              "    }\n",
              "\n",
              "    .dataframe thead th {\n",
              "        text-align: right;\n",
              "    }\n",
              "</style>\n",
              "<table border=\"1\" class=\"dataframe\">\n",
              "  <thead>\n",
              "    <tr style=\"text-align: right;\">\n",
              "      <th></th>\n",
              "      <th>squareMeters</th>\n",
              "      <th>numberOfRooms</th>\n",
              "      <th>hasYard</th>\n",
              "      <th>hasPool</th>\n",
              "      <th>floors</th>\n",
              "      <th>cityCode</th>\n",
              "      <th>cityPartRange</th>\n",
              "      <th>numPrevOwners</th>\n",
              "      <th>made</th>\n",
              "      <th>isNewBuilt</th>\n",
              "      <th>hasStormProtector</th>\n",
              "      <th>basement</th>\n",
              "      <th>attic</th>\n",
              "      <th>garage</th>\n",
              "      <th>hasStorageRoom</th>\n",
              "      <th>hasGuestRoom</th>\n",
              "      <th>price</th>\n",
              "    </tr>\n",
              "  </thead>\n",
              "  <tbody>\n",
              "    <tr>\n",
              "      <th>0</th>\n",
              "      <td>75523</td>\n",
              "      <td>3</td>\n",
              "      <td>0</td>\n",
              "      <td>1</td>\n",
              "      <td>63</td>\n",
              "      <td>9373</td>\n",
              "      <td>3</td>\n",
              "      <td>8</td>\n",
              "      <td>2005</td>\n",
              "      <td>0</td>\n",
              "      <td>1</td>\n",
              "      <td>4313</td>\n",
              "      <td>9005</td>\n",
              "      <td>956</td>\n",
              "      <td>0</td>\n",
              "      <td>7</td>\n",
              "      <td>7559081.5</td>\n",
              "    </tr>\n",
              "    <tr>\n",
              "      <th>1</th>\n",
              "      <td>80771</td>\n",
              "      <td>39</td>\n",
              "      <td>1</td>\n",
              "      <td>1</td>\n",
              "      <td>98</td>\n",
              "      <td>39381</td>\n",
              "      <td>8</td>\n",
              "      <td>6</td>\n",
              "      <td>2015</td>\n",
              "      <td>1</td>\n",
              "      <td>0</td>\n",
              "      <td>3653</td>\n",
              "      <td>2436</td>\n",
              "      <td>128</td>\n",
              "      <td>1</td>\n",
              "      <td>2</td>\n",
              "      <td>8085989.5</td>\n",
              "    </tr>\n",
              "    <tr>\n",
              "      <th>2</th>\n",
              "      <td>55712</td>\n",
              "      <td>58</td>\n",
              "      <td>0</td>\n",
              "      <td>1</td>\n",
              "      <td>19</td>\n",
              "      <td>34457</td>\n",
              "      <td>6</td>\n",
              "      <td>8</td>\n",
              "      <td>2021</td>\n",
              "      <td>0</td>\n",
              "      <td>0</td>\n",
              "      <td>2937</td>\n",
              "      <td>8852</td>\n",
              "      <td>135</td>\n",
              "      <td>1</td>\n",
              "      <td>9</td>\n",
              "      <td>5574642.1</td>\n",
              "    </tr>\n",
              "    <tr>\n",
              "      <th>3</th>\n",
              "      <td>32316</td>\n",
              "      <td>47</td>\n",
              "      <td>0</td>\n",
              "      <td>0</td>\n",
              "      <td>6</td>\n",
              "      <td>27939</td>\n",
              "      <td>10</td>\n",
              "      <td>4</td>\n",
              "      <td>2012</td>\n",
              "      <td>0</td>\n",
              "      <td>1</td>\n",
              "      <td>659</td>\n",
              "      <td>7141</td>\n",
              "      <td>359</td>\n",
              "      <td>0</td>\n",
              "      <td>3</td>\n",
              "      <td>3232561.2</td>\n",
              "    </tr>\n",
              "    <tr>\n",
              "      <th>4</th>\n",
              "      <td>70429</td>\n",
              "      <td>19</td>\n",
              "      <td>1</td>\n",
              "      <td>1</td>\n",
              "      <td>90</td>\n",
              "      <td>38045</td>\n",
              "      <td>3</td>\n",
              "      <td>7</td>\n",
              "      <td>1990</td>\n",
              "      <td>1</td>\n",
              "      <td>0</td>\n",
              "      <td>8435</td>\n",
              "      <td>2429</td>\n",
              "      <td>292</td>\n",
              "      <td>1</td>\n",
              "      <td>4</td>\n",
              "      <td>7055052.0</td>\n",
              "    </tr>\n",
              "    <tr>\n",
              "      <th>...</th>\n",
              "      <td>...</td>\n",
              "      <td>...</td>\n",
              "      <td>...</td>\n",
              "      <td>...</td>\n",
              "      <td>...</td>\n",
              "      <td>...</td>\n",
              "      <td>...</td>\n",
              "      <td>...</td>\n",
              "      <td>...</td>\n",
              "      <td>...</td>\n",
              "      <td>...</td>\n",
              "      <td>...</td>\n",
              "      <td>...</td>\n",
              "      <td>...</td>\n",
              "      <td>...</td>\n",
              "      <td>...</td>\n",
              "      <td>...</td>\n",
              "    </tr>\n",
              "    <tr>\n",
              "      <th>9995</th>\n",
              "      <td>1726</td>\n",
              "      <td>89</td>\n",
              "      <td>0</td>\n",
              "      <td>1</td>\n",
              "      <td>5</td>\n",
              "      <td>73133</td>\n",
              "      <td>7</td>\n",
              "      <td>6</td>\n",
              "      <td>2009</td>\n",
              "      <td>0</td>\n",
              "      <td>1</td>\n",
              "      <td>9311</td>\n",
              "      <td>1698</td>\n",
              "      <td>218</td>\n",
              "      <td>0</td>\n",
              "      <td>4</td>\n",
              "      <td>176425.9</td>\n",
              "    </tr>\n",
              "    <tr>\n",
              "      <th>9996</th>\n",
              "      <td>44403</td>\n",
              "      <td>29</td>\n",
              "      <td>1</td>\n",
              "      <td>1</td>\n",
              "      <td>12</td>\n",
              "      <td>34606</td>\n",
              "      <td>9</td>\n",
              "      <td>4</td>\n",
              "      <td>1990</td>\n",
              "      <td>0</td>\n",
              "      <td>1</td>\n",
              "      <td>9061</td>\n",
              "      <td>1742</td>\n",
              "      <td>230</td>\n",
              "      <td>0</td>\n",
              "      <td>0</td>\n",
              "      <td>4448474.0</td>\n",
              "    </tr>\n",
              "    <tr>\n",
              "      <th>9997</th>\n",
              "      <td>83841</td>\n",
              "      <td>3</td>\n",
              "      <td>0</td>\n",
              "      <td>0</td>\n",
              "      <td>69</td>\n",
              "      <td>80933</td>\n",
              "      <td>10</td>\n",
              "      <td>10</td>\n",
              "      <td>2005</td>\n",
              "      <td>1</td>\n",
              "      <td>1</td>\n",
              "      <td>8304</td>\n",
              "      <td>7730</td>\n",
              "      <td>345</td>\n",
              "      <td>1</td>\n",
              "      <td>9</td>\n",
              "      <td>8390030.5</td>\n",
              "    </tr>\n",
              "    <tr>\n",
              "      <th>9998</th>\n",
              "      <td>59036</td>\n",
              "      <td>70</td>\n",
              "      <td>0</td>\n",
              "      <td>0</td>\n",
              "      <td>96</td>\n",
              "      <td>55856</td>\n",
              "      <td>1</td>\n",
              "      <td>3</td>\n",
              "      <td>2010</td>\n",
              "      <td>0</td>\n",
              "      <td>1</td>\n",
              "      <td>2590</td>\n",
              "      <td>6174</td>\n",
              "      <td>339</td>\n",
              "      <td>1</td>\n",
              "      <td>4</td>\n",
              "      <td>5905107.0</td>\n",
              "    </tr>\n",
              "    <tr>\n",
              "      <th>9999</th>\n",
              "      <td>1440</td>\n",
              "      <td>84</td>\n",
              "      <td>0</td>\n",
              "      <td>0</td>\n",
              "      <td>49</td>\n",
              "      <td>18412</td>\n",
              "      <td>6</td>\n",
              "      <td>10</td>\n",
              "      <td>1994</td>\n",
              "      <td>1</td>\n",
              "      <td>0</td>\n",
              "      <td>8485</td>\n",
              "      <td>2024</td>\n",
              "      <td>278</td>\n",
              "      <td>1</td>\n",
              "      <td>6</td>\n",
              "      <td>146708.4</td>\n",
              "    </tr>\n",
              "  </tbody>\n",
              "</table>\n",
              "<p>10000 rows × 17 columns</p>\n",
              "</div>\n",
              "      <button class=\"colab-df-convert\" onclick=\"convertToInteractive('df-53836a3b-3670-4b6f-ac07-0d3acb433e4a')\"\n",
              "              title=\"Convert this dataframe to an interactive table.\"\n",
              "              style=\"display:none;\">\n",
              "        \n",
              "  <svg xmlns=\"http://www.w3.org/2000/svg\" height=\"24px\"viewBox=\"0 0 24 24\"\n",
              "       width=\"24px\">\n",
              "    <path d=\"M0 0h24v24H0V0z\" fill=\"none\"/>\n",
              "    <path d=\"M18.56 5.44l.94 2.06.94-2.06 2.06-.94-2.06-.94-.94-2.06-.94 2.06-2.06.94zm-11 1L8.5 8.5l.94-2.06 2.06-.94-2.06-.94L8.5 2.5l-.94 2.06-2.06.94zm10 10l.94 2.06.94-2.06 2.06-.94-2.06-.94-.94-2.06-.94 2.06-2.06.94z\"/><path d=\"M17.41 7.96l-1.37-1.37c-.4-.4-.92-.59-1.43-.59-.52 0-1.04.2-1.43.59L10.3 9.45l-7.72 7.72c-.78.78-.78 2.05 0 2.83L4 21.41c.39.39.9.59 1.41.59.51 0 1.02-.2 1.41-.59l7.78-7.78 2.81-2.81c.8-.78.8-2.07 0-2.86zM5.41 20L4 18.59l7.72-7.72 1.47 1.35L5.41 20z\"/>\n",
              "  </svg>\n",
              "      </button>\n",
              "      \n",
              "  <style>\n",
              "    .colab-df-container {\n",
              "      display:flex;\n",
              "      flex-wrap:wrap;\n",
              "      gap: 12px;\n",
              "    }\n",
              "\n",
              "    .colab-df-convert {\n",
              "      background-color: #E8F0FE;\n",
              "      border: none;\n",
              "      border-radius: 50%;\n",
              "      cursor: pointer;\n",
              "      display: none;\n",
              "      fill: #1967D2;\n",
              "      height: 32px;\n",
              "      padding: 0 0 0 0;\n",
              "      width: 32px;\n",
              "    }\n",
              "\n",
              "    .colab-df-convert:hover {\n",
              "      background-color: #E2EBFA;\n",
              "      box-shadow: 0px 1px 2px rgba(60, 64, 67, 0.3), 0px 1px 3px 1px rgba(60, 64, 67, 0.15);\n",
              "      fill: #174EA6;\n",
              "    }\n",
              "\n",
              "    [theme=dark] .colab-df-convert {\n",
              "      background-color: #3B4455;\n",
              "      fill: #D2E3FC;\n",
              "    }\n",
              "\n",
              "    [theme=dark] .colab-df-convert:hover {\n",
              "      background-color: #434B5C;\n",
              "      box-shadow: 0px 1px 3px 1px rgba(0, 0, 0, 0.15);\n",
              "      filter: drop-shadow(0px 1px 2px rgba(0, 0, 0, 0.3));\n",
              "      fill: #FFFFFF;\n",
              "    }\n",
              "  </style>\n",
              "\n",
              "      <script>\n",
              "        const buttonEl =\n",
              "          document.querySelector('#df-53836a3b-3670-4b6f-ac07-0d3acb433e4a button.colab-df-convert');\n",
              "        buttonEl.style.display =\n",
              "          google.colab.kernel.accessAllowed ? 'block' : 'none';\n",
              "\n",
              "        async function convertToInteractive(key) {\n",
              "          const element = document.querySelector('#df-53836a3b-3670-4b6f-ac07-0d3acb433e4a');\n",
              "          const dataTable =\n",
              "            await google.colab.kernel.invokeFunction('convertToInteractive',\n",
              "                                                     [key], {});\n",
              "          if (!dataTable) return;\n",
              "\n",
              "          const docLinkHtml = 'Like what you see? Visit the ' +\n",
              "            '<a target=\"_blank\" href=https://colab.research.google.com/notebooks/data_table.ipynb>data table notebook</a>'\n",
              "            + ' to learn more about interactive tables.';\n",
              "          element.innerHTML = '';\n",
              "          dataTable['output_type'] = 'display_data';\n",
              "          await google.colab.output.renderOutput(dataTable, element);\n",
              "          const docLink = document.createElement('div');\n",
              "          docLink.innerHTML = docLinkHtml;\n",
              "          element.appendChild(docLink);\n",
              "        }\n",
              "      </script>\n",
              "    </div>\n",
              "  </div>\n",
              "  "
            ],
            "text/plain": [
              "      squareMeters  numberOfRooms  ...  hasGuestRoom      price\n",
              "0            75523              3  ...             7  7559081.5\n",
              "1            80771             39  ...             2  8085989.5\n",
              "2            55712             58  ...             9  5574642.1\n",
              "3            32316             47  ...             3  3232561.2\n",
              "4            70429             19  ...             4  7055052.0\n",
              "...            ...            ...  ...           ...        ...\n",
              "9995          1726             89  ...             4   176425.9\n",
              "9996         44403             29  ...             0  4448474.0\n",
              "9997         83841              3  ...             9  8390030.5\n",
              "9998         59036             70  ...             4  5905107.0\n",
              "9999          1440             84  ...             6   146708.4\n",
              "\n",
              "[10000 rows x 17 columns]"
            ]
          },
          "metadata": {},
          "execution_count": 16
        }
      ]
    },
    {
      "cell_type": "code",
      "source": [
        "df.isnull().sum()"
      ],
      "metadata": {
        "colab": {
          "base_uri": "https://localhost:8080/"
        },
        "id": "mLQBerrbDZ-i",
        "outputId": "1a1c2433-cf2c-4b0c-f3fc-7f91a20fe248"
      },
      "execution_count": null,
      "outputs": [
        {
          "output_type": "execute_result",
          "data": {
            "text/plain": [
              "squareMeters         0\n",
              "numberOfRooms        0\n",
              "hasYard              0\n",
              "hasPool              0\n",
              "floors               0\n",
              "cityCode             0\n",
              "cityPartRange        0\n",
              "numPrevOwners        0\n",
              "made                 0\n",
              "isNewBuilt           0\n",
              "hasStormProtector    0\n",
              "basement             0\n",
              "attic                0\n",
              "garage               0\n",
              "hasStorageRoom       0\n",
              "hasGuestRoom         0\n",
              "price                0\n",
              "dtype: int64"
            ]
          },
          "metadata": {},
          "execution_count": 17
        }
      ]
    },
    {
      "cell_type": "code",
      "source": [
        "reg=linear_model.LinearRegression()\n",
        "reg.fit(df[['squareMeters','numberOfRooms','hasYard','hasPool','floors','cityCode','cityPartRange','numPrevOwners','made','isNewBuilt','hasStormProtector','basement','attic','garage','hasStorageRoom','hasGuestRoom']],df['price'])"
      ],
      "metadata": {
        "colab": {
          "base_uri": "https://localhost:8080/"
        },
        "id": "IWG5upmYDrHO",
        "outputId": "0e430ff9-3552-42e1-e892-3db06cb11fd3"
      },
      "execution_count": null,
      "outputs": [
        {
          "output_type": "execute_result",
          "data": {
            "text/plain": [
              "LinearRegression()"
            ]
          },
          "metadata": {},
          "execution_count": 21
        }
      ]
    },
    {
      "cell_type": "code",
      "source": [
        "print(reg.intercept_)\n",
        "print(reg.coef_)"
      ],
      "metadata": {
        "colab": {
          "base_uri": "https://localhost:8080/"
        },
        "id": "9cU2FyD7EDLK",
        "outputId": "f48fa3fd-0746-4331-82a1-df2c9131807d"
      },
      "execution_count": null,
      "outputs": [
        {
          "output_type": "stream",
          "name": "stdout",
          "text": [
            "4926.758592904545\n",
            "[ 1.00000024e+02  2.51844810e-01  3.01229551e+03  2.97713775e+03\n",
            "  5.45420542e+01 -8.03888244e-04  4.73685001e+01 -3.95730186e-01\n",
            " -2.31311931e+00  1.58041540e+02  1.41196130e+02 -2.10562533e-03\n",
            " -4.50939065e-03  1.13432814e-01  1.94856126e+01 -5.62033751e+00]\n"
          ]
        }
      ]
    },
    {
      "cell_type": "code",
      "source": [
        "yp=reg.predict(df[['squareMeters','numberOfRooms','hasYard','hasPool','floors','cityCode','cityPartRange','numPrevOwners','made','isNewBuilt','hasStormProtector','basement','attic','garage','hasStorageRoom','hasGuestRoom']])\n",
        "yp"
      ],
      "metadata": {
        "colab": {
          "base_uri": "https://localhost:8080/"
        },
        "id": "e87TgGynKU4_",
        "outputId": "88da70c6-1252-48a4-ab77-abdc71fa730f"
      },
      "execution_count": null,
      "outputs": [
        {
          "output_type": "execute_result",
          "data": {
            "text/plain": [
              "array([7559296.85878308, 8089219.22308318, 5575672.81318593, ...,\n",
              "       8388814.76385823, 5909277.14013567,  147421.94830351])"
            ]
          },
          "metadata": {},
          "execution_count": 27
        }
      ]
    },
    {
      "cell_type": "code",
      "source": [
        "metrics.r2_score(yp,df['price'])"
      ],
      "metadata": {
        "colab": {
          "base_uri": "https://localhost:8080/"
        },
        "id": "-YgDJv1dK5YG",
        "outputId": "c04a33c9-deb5-4327-8a97-760dcc12ba66"
      },
      "execution_count": null,
      "outputs": [
        {
          "output_type": "execute_result",
          "data": {
            "text/plain": [
              "0.999999565404025"
            ]
          },
          "metadata": {},
          "execution_count": 28
        }
      ]
    }
  ]
}